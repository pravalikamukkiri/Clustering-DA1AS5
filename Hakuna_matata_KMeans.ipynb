{
  "nbformat": 4,
  "nbformat_minor": 0,
  "metadata": {
    "colab": {
      "provenance": []
    },
    "kernelspec": {
      "name": "python3",
      "display_name": "Python 3"
    },
    "language_info": {
      "name": "python"
    },
    "gpuClass": "standard"
  },
  "cells": [
    {
      "cell_type": "code",
      "execution_count": 1,
      "metadata": {
        "id": "B3h3Ko6Kaw10"
      },
      "outputs": [],
      "source": [
        "import pandas as pd\n",
        "from sklearn.decomposition import PCA\n",
        "from sklearn.preprocessing import StandardScaler\n",
        "from sklearn import metrics\n",
        "from sklearn.model_selection import ParameterGrid\n",
        "from sklearn.cluster import KMeans\n",
        "import numpy as np\n",
        "import re as re\n",
        "import math\n",
        "import matplotlib.pyplot as plt"
      ]
    },
    {
      "cell_type": "code",
      "source": [
        "from google.colab import drive\n",
        "drive.mount('/content/drive')"
      ],
      "metadata": {
        "colab": {
          "base_uri": "https://localhost:8080/"
        },
        "id": "p7lojPfnbE-i",
        "outputId": "a25b2270-f699-4170-d2d0-95b1b85f25f5"
      },
      "execution_count": 2,
      "outputs": [
        {
          "output_type": "stream",
          "name": "stdout",
          "text": [
            "Mounted at /content/drive\n"
          ]
        }
      ]
    },
    {
      "cell_type": "code",
      "source": [
        "# df.head()"
      ],
      "metadata": {
        "id": "7BrAYs-cbK4V"
      },
      "execution_count": 3,
      "outputs": []
    },
    {
      "cell_type": "markdown",
      "source": [
        "Preprocessing"
      ],
      "metadata": {
        "id": "PJMMIVkYZqrh"
      }
    },
    {
      "cell_type": "code",
      "source": [
        "df=pd.read_csv('/content/drive/My Drive/football_data.csv')"
      ],
      "metadata": {
        "id": "WtIc90BhbHgH"
      },
      "execution_count": 4,
      "outputs": []
    },
    {
      "cell_type": "code",
      "source": [
        "df.info()"
      ],
      "metadata": {
        "colab": {
          "base_uri": "https://localhost:8080/"
        },
        "id": "odxo_BvWIeBX",
        "outputId": "97c16928-2a92-43c0-a49a-042e93c56d27"
      },
      "execution_count": 5,
      "outputs": [
        {
          "output_type": "stream",
          "name": "stdout",
          "text": [
            "<class 'pandas.core.frame.DataFrame'>\n",
            "RangeIndex: 18207 entries, 0 to 18206\n",
            "Data columns (total 61 columns):\n",
            " #   Column                    Non-Null Count  Dtype  \n",
            "---  ------                    --------------  -----  \n",
            " 0   Unnamed: 0                18207 non-null  int64  \n",
            " 1   ID                        18207 non-null  int64  \n",
            " 2   Name                      18207 non-null  object \n",
            " 3   Age                       18207 non-null  int64  \n",
            " 4   Nationality               18207 non-null  object \n",
            " 5   Overall                   18207 non-null  int64  \n",
            " 6   Potential                 18207 non-null  int64  \n",
            " 7   Club                      17966 non-null  object \n",
            " 8   Value                     18207 non-null  object \n",
            " 9   Wage                      18207 non-null  object \n",
            " 10  Special                   18207 non-null  object \n",
            " 11  Preferred Foot            18159 non-null  object \n",
            " 12  International Reputation  18159 non-null  object \n",
            " 13  Weak Foot                 18159 non-null  float64\n",
            " 14  Skill Moves               18159 non-null  float64\n",
            " 15  Work Rate                 18159 non-null  object \n",
            " 16  Body Type                 18159 non-null  object \n",
            " 17  Real Face                 18159 non-null  object \n",
            " 18  Position                  18147 non-null  object \n",
            " 19  Jersey Number             18147 non-null  object \n",
            " 20  Joined                    16655 non-null  object \n",
            " 21  Loaned From               1290 non-null   object \n",
            " 22  Contract Valid Until      17891 non-null  object \n",
            " 23  Height                    18159 non-null  object \n",
            " 24  Weight                    18159 non-null  object \n",
            " 25  Crossing                  18156 non-null  object \n",
            " 26  Finishing                 18159 non-null  float64\n",
            " 27  HeadingAccuracy           18159 non-null  float64\n",
            " 28  ShortPassing              18159 non-null  float64\n",
            " 29  Volleys                   18159 non-null  float64\n",
            " 30  Dribbling                 18159 non-null  float64\n",
            " 31  Curve                     18159 non-null  float64\n",
            " 32  FKAccuracy                18159 non-null  float64\n",
            " 33  LongPassing               18159 non-null  float64\n",
            " 34  BallControl               18159 non-null  float64\n",
            " 35  Acceleration              18159 non-null  float64\n",
            " 36  SprintSpeed               18159 non-null  float64\n",
            " 37  Agility                   18159 non-null  float64\n",
            " 38  Reactions                 18159 non-null  float64\n",
            " 39  Balance                   18159 non-null  float64\n",
            " 40  ShotPower                 18159 non-null  float64\n",
            " 41  Jumping                   18159 non-null  float64\n",
            " 42  Stamina                   18159 non-null  float64\n",
            " 43  Strength                  18159 non-null  float64\n",
            " 44  LongShots                 18159 non-null  float64\n",
            " 45  Aggression                18159 non-null  float64\n",
            " 46  Interceptions             18159 non-null  float64\n",
            " 47  Positioning               18159 non-null  float64\n",
            " 48  Vision                    18159 non-null  float64\n",
            " 49  Penalties                 18159 non-null  float64\n",
            " 50  Composure                 18159 non-null  float64\n",
            " 51  Marking                   18159 non-null  float64\n",
            " 52  StandingTackle            18159 non-null  float64\n",
            " 53  SlidingTackle             18159 non-null  float64\n",
            " 54  GKDiving                  18159 non-null  float64\n",
            " 55  GKHandling                18159 non-null  float64\n",
            " 56  GKKicking                 18159 non-null  float64\n",
            " 57  GKPositioning             18159 non-null  float64\n",
            " 58  GKReflexes                18159 non-null  float64\n",
            " 59  Release Clause            16644 non-null  object \n",
            " 60  Unnamed: 60               27 non-null     object \n",
            "dtypes: float64(35), int64(5), object(21)\n",
            "memory usage: 8.5+ MB\n"
          ]
        }
      ]
    },
    {
      "cell_type": "code",
      "source": [
        "def change_currency(l):\n",
        "  cl=[]\n",
        "  for x in l:\n",
        "    if(type(x)==str and x[0]=='€'):\n",
        "      if(x[-1]=='K'):\n",
        "        cl.append(float(x[1:-1])*1000)\n",
        "      elif(x[-1]=='M'):\n",
        "        cl.append(float(x[1:-1])*1000000)\n",
        "      else:\n",
        "        cl.append(float(x[1:]))\n",
        "    else:\n",
        "      cl.append(0)\n",
        "  return cl\n",
        "\n",
        "df['Value']=change_currency(df['Value'])\n",
        "df['Wage']=change_currency(df['Wage'])\n",
        "df['Release Clause'] = change_currency(df['Release Clause'])"
      ],
      "metadata": {
        "id": "-oI5ekzOeggA"
      },
      "execution_count": 6,
      "outputs": []
    },
    {
      "cell_type": "code",
      "source": [
        "df['ID'] = df['ID'].astype(int)\n",
        "df['Name'] = pd.factorize(df['Name'])[0]\n",
        "df['Age'] = df['Age'].astype(int)\n",
        "df['Nationality'] = pd.factorize(df['Nationality'])[0]\n",
        "df['Overall'] = df['Overall'].astype(int)\n",
        "df['Potential'] = df['Potential'].astype(int)\n",
        "df['Club'] = pd.factorize(df['Club'])[0]\n",
        "df['Special'] = pd.factorize(df['Special'])[0]\n",
        "df['Preferred Foot'] = pd.factorize(df['Preferred Foot'])[0]"
      ],
      "metadata": {
        "id": "rs7C2KkTZqGK"
      },
      "execution_count": 7,
      "outputs": []
    },
    {
      "cell_type": "code",
      "source": [
        "def change_int(l):\n",
        "  cl=[]\n",
        "  for x in l:\n",
        "    if(type(x)!=str):\n",
        "      cl.append(0)\n",
        "      continue\n",
        "    if(type(x)==float):\n",
        "      print(x)\n",
        "      cl.append(int(x))\n",
        "      continue\n",
        "    s=\"\"\n",
        "    for c in x:\n",
        "      if(c>='0' and c<='9'):\n",
        "        s+=c\n",
        "    if(s==\"\"):\n",
        "      cl.append(0)\n",
        "    else:\n",
        "      cl.append(int(s))\n",
        "  return cl"
      ],
      "metadata": {
        "id": "uoYRRS89mtKU"
      },
      "execution_count": 8,
      "outputs": []
    },
    {
      "cell_type": "code",
      "source": [
        "df['International Reputation'] = change_int(df['International Reputation'])\n",
        "df['Weak Foot'] = change_int(df['Weak Foot'])\n",
        "df['Skill Moves'] = change_int(df['Skill Moves'])"
      ],
      "metadata": {
        "id": "tje9GKdXm1hN"
      },
      "execution_count": 9,
      "outputs": []
    },
    {
      "cell_type": "code",
      "source": [
        "def fill_vals(l1,l2):\n",
        "  cl=[]\n",
        "  for x in l1:\n",
        "    if x in l2:\n",
        "      cl.append(l2.index(x)+1)\n",
        "    else:\n",
        "      cl.append(0)\n",
        "  return cl\n"
      ],
      "metadata": {
        "id": "5G7bJj3o-e_x"
      },
      "execution_count": 10,
      "outputs": []
    },
    {
      "cell_type": "code",
      "source": [
        "df['Work Rate'] = fill_vals(df['Work Rate'],['Low/ Low','Low/ Medium','Low/ High','Medium/ Low','Medium/ Medium','Medium/ High','High/ Low','High/ Medium','High/ High'])\n",
        "df['Body Type'] = fill_vals(df['Body Type'],['Normal','Lean','Stocky'])\n",
        "df['Real Face'] = fill_vals(df['Real Face'],['Yes','No'])\n",
        "df['Position'] = pd.factorize(df['Position'])[0]\n",
        "df['Jersey Number']=change_int(df['Jersey Number'])\n",
        "df['Loaned From'] = pd.factorize(df['Loaned From'])[0]"
      ],
      "metadata": {
        "id": "hgz7pn7Q_ilP"
      },
      "execution_count": 11,
      "outputs": []
    },
    {
      "cell_type": "code",
      "source": [
        "def get_year(l):\n",
        "  cvl=[]\n",
        "  for a in l:\n",
        "    if(type(a)==str and len(a)>4 and a[-4:-3]=='2'):\n",
        "      cvl.append(int(a[-4:]))\n",
        "    else:\n",
        "      cvl.append(0)\n",
        "  return cvl\n"
      ],
      "metadata": {
        "id": "X276V6t_DOCt"
      },
      "execution_count": 12,
      "outputs": []
    },
    {
      "cell_type": "code",
      "source": [
        "df['Contract Valid Until']=get_year(df['Contract Valid Until'])\n",
        "df['Joined'] = get_year(df['Joined'])"
      ],
      "metadata": {
        "id": "4lqwIh_66l-O"
      },
      "execution_count": 13,
      "outputs": []
    },
    {
      "cell_type": "code",
      "source": [
        "h=[]\n",
        "for x in df['Height']:\n",
        "  if(type(x)==str and len(x)<=3 and len(x)>=1):\n",
        "    a=x.split(\"'\")\n",
        "    h.append(int(a[0])*12+int(a[1]))\n",
        "  else:\n",
        "    h.append(5*12)\n",
        "df['Height']=h"
      ],
      "metadata": {
        "id": "FivA2_C9EMWn"
      },
      "execution_count": 14,
      "outputs": []
    },
    {
      "cell_type": "code",
      "source": [
        "w=[]\n",
        "for a in df['Weight']:\n",
        "  if(type(a)==str and len(a)>3 and a[-3:]==\"lbs\"):\n",
        "    w.append(int(a[:-3]))\n",
        "  else:\n",
        "    w.append(150)\n",
        "df['Weight']=w"
      ],
      "metadata": {
        "id": "XCfT7_vcFEFU"
      },
      "execution_count": 15,
      "outputs": []
    },
    {
      "cell_type": "code",
      "source": [
        "df['Crossing'] = change_int(df['Crossing'])\n",
        "df['Finishing'] = change_int(df['Finishing'])\n",
        "df['HeadingAccuracy'] = change_int(df['HeadingAccuracy'])\n",
        "df['ShortPassing'] = change_int(df['ShortPassing'])\n",
        "df['Volleys'] = change_int(df['Volleys'])\n",
        "df['Dribbling'] = change_int(df['Dribbling'])\n",
        "df['Curve'] = change_int(df['Curve'])\n",
        "df['FKAccuracy'] = change_int(df['FKAccuracy'])\n",
        "df['LongPassing'] = change_int(df['LongPassing'])\n",
        "df['BallControl'] = change_int(df['BallControl'])\n",
        "df['Acceleration'] = change_int(df['Acceleration'])\n",
        "df['SprintSpeed'] = change_int(df['SprintSpeed'])\n",
        "df['Agility'] = change_int(df['Agility'])\n",
        "df['Reactions'] = change_int(df['Reactions'])\n",
        "df['Balance'] = change_int(df['Balance'])\n",
        "df['ShotPower'] = change_int(df['ShotPower'])\n",
        "df['Jumping'] = change_int(df['Jumping'])\n",
        "df['Stamina'] = change_int(df['Stamina'])\n",
        "df['Strength'] = change_int(df['Strength'])\n",
        "df['LongShots'] = change_int(df['LongShots'])\n",
        "df['Aggression'] = change_int(df['Aggression'])\n",
        "df['Interceptions'] = change_int(df['Interceptions'])\n",
        "df['Positioning'] = change_int(df['Positioning'])\n",
        "df['Vision'] = change_int(df['Vision'])\n",
        "df['Penalties'] = change_int(df['Penalties'])\n",
        "df['Composure'] = change_int(df['Composure'])\n",
        "df['Marking'] = change_int(df['Marking'])\n",
        "df['StandingTackle'] = change_int(df['StandingTackle'])\n",
        "df['SlidingTackle'] = change_int(df['SlidingTackle'])\n",
        "df['GKDiving'] = change_int(df['GKDiving'])\n",
        "df['GKHandling'] = change_int(df['GKHandling'])\n",
        "df['GKKicking'] = change_int(df['GKKicking'])\n",
        "df['GKPositioning'] = change_int(df['GKPositioning'])\n",
        "df['GKReflexes'] = change_int(df['GKReflexes'])"
      ],
      "metadata": {
        "id": "2Hc4x-T6Fpq8"
      },
      "execution_count": 16,
      "outputs": []
    },
    {
      "cell_type": "code",
      "source": [
        "df.head()"
      ],
      "metadata": {
        "colab": {
          "base_uri": "https://localhost:8080/",
          "height": 236
        },
        "id": "ZOjsgPsHa2UF",
        "outputId": "b9bc6165-2788-45eb-a0b6-595220129e6c"
      },
      "execution_count": 17,
      "outputs": [
        {
          "output_type": "execute_result",
          "data": {
            "text/plain": [
              "   Unnamed: 0      ID  Name  Age  Nationality  Overall  Potential  Club  \\\n",
              "0           0  158023     0   31            0       94         94     0   \n",
              "1           1   20801     1   33            1       94         94     1   \n",
              "2           2  190871     2   26            2       92         93     2   \n",
              "3           3  193080     3   27            3       91         93     3   \n",
              "4           4  192985     4   27            4       91         92     4   \n",
              "\n",
              "         Value      Wage  ...  Marking  StandingTackle  SlidingTackle  \\\n",
              "0  110500000.0  565000.0  ...        0               0              0   \n",
              "1   77000000.0  405000.0  ...        0               0              0   \n",
              "2  118500000.0  290000.0  ...        0               0              0   \n",
              "3   72000000.0  260000.0  ...        0               0              0   \n",
              "4  102000000.0  355000.0  ...        0               0              0   \n",
              "\n",
              "   GKDiving  GKHandling  GKKicking  GKPositioning  GKReflexes  Release Clause  \\\n",
              "0         0           0          0              0           0     226500000.0   \n",
              "1         0           0          0              0           0     127100000.0   \n",
              "2         0           0          0              0           0     228100000.0   \n",
              "3         0           0          0              0           0     138600000.0   \n",
              "4         0           0          0              0           0     196400000.0   \n",
              "\n",
              "   Unnamed: 60  \n",
              "0          NaN  \n",
              "1          NaN  \n",
              "2          NaN  \n",
              "3          NaN  \n",
              "4          NaN  \n",
              "\n",
              "[5 rows x 61 columns]"
            ],
            "text/html": [
              "\n",
              "  <div id=\"df-089508f2-5d33-486a-b8ed-bdbca6f1c48a\">\n",
              "    <div class=\"colab-df-container\">\n",
              "      <div>\n",
              "<style scoped>\n",
              "    .dataframe tbody tr th:only-of-type {\n",
              "        vertical-align: middle;\n",
              "    }\n",
              "\n",
              "    .dataframe tbody tr th {\n",
              "        vertical-align: top;\n",
              "    }\n",
              "\n",
              "    .dataframe thead th {\n",
              "        text-align: right;\n",
              "    }\n",
              "</style>\n",
              "<table border=\"1\" class=\"dataframe\">\n",
              "  <thead>\n",
              "    <tr style=\"text-align: right;\">\n",
              "      <th></th>\n",
              "      <th>Unnamed: 0</th>\n",
              "      <th>ID</th>\n",
              "      <th>Name</th>\n",
              "      <th>Age</th>\n",
              "      <th>Nationality</th>\n",
              "      <th>Overall</th>\n",
              "      <th>Potential</th>\n",
              "      <th>Club</th>\n",
              "      <th>Value</th>\n",
              "      <th>Wage</th>\n",
              "      <th>...</th>\n",
              "      <th>Marking</th>\n",
              "      <th>StandingTackle</th>\n",
              "      <th>SlidingTackle</th>\n",
              "      <th>GKDiving</th>\n",
              "      <th>GKHandling</th>\n",
              "      <th>GKKicking</th>\n",
              "      <th>GKPositioning</th>\n",
              "      <th>GKReflexes</th>\n",
              "      <th>Release Clause</th>\n",
              "      <th>Unnamed: 60</th>\n",
              "    </tr>\n",
              "  </thead>\n",
              "  <tbody>\n",
              "    <tr>\n",
              "      <th>0</th>\n",
              "      <td>0</td>\n",
              "      <td>158023</td>\n",
              "      <td>0</td>\n",
              "      <td>31</td>\n",
              "      <td>0</td>\n",
              "      <td>94</td>\n",
              "      <td>94</td>\n",
              "      <td>0</td>\n",
              "      <td>110500000.0</td>\n",
              "      <td>565000.0</td>\n",
              "      <td>...</td>\n",
              "      <td>0</td>\n",
              "      <td>0</td>\n",
              "      <td>0</td>\n",
              "      <td>0</td>\n",
              "      <td>0</td>\n",
              "      <td>0</td>\n",
              "      <td>0</td>\n",
              "      <td>0</td>\n",
              "      <td>226500000.0</td>\n",
              "      <td>NaN</td>\n",
              "    </tr>\n",
              "    <tr>\n",
              "      <th>1</th>\n",
              "      <td>1</td>\n",
              "      <td>20801</td>\n",
              "      <td>1</td>\n",
              "      <td>33</td>\n",
              "      <td>1</td>\n",
              "      <td>94</td>\n",
              "      <td>94</td>\n",
              "      <td>1</td>\n",
              "      <td>77000000.0</td>\n",
              "      <td>405000.0</td>\n",
              "      <td>...</td>\n",
              "      <td>0</td>\n",
              "      <td>0</td>\n",
              "      <td>0</td>\n",
              "      <td>0</td>\n",
              "      <td>0</td>\n",
              "      <td>0</td>\n",
              "      <td>0</td>\n",
              "      <td>0</td>\n",
              "      <td>127100000.0</td>\n",
              "      <td>NaN</td>\n",
              "    </tr>\n",
              "    <tr>\n",
              "      <th>2</th>\n",
              "      <td>2</td>\n",
              "      <td>190871</td>\n",
              "      <td>2</td>\n",
              "      <td>26</td>\n",
              "      <td>2</td>\n",
              "      <td>92</td>\n",
              "      <td>93</td>\n",
              "      <td>2</td>\n",
              "      <td>118500000.0</td>\n",
              "      <td>290000.0</td>\n",
              "      <td>...</td>\n",
              "      <td>0</td>\n",
              "      <td>0</td>\n",
              "      <td>0</td>\n",
              "      <td>0</td>\n",
              "      <td>0</td>\n",
              "      <td>0</td>\n",
              "      <td>0</td>\n",
              "      <td>0</td>\n",
              "      <td>228100000.0</td>\n",
              "      <td>NaN</td>\n",
              "    </tr>\n",
              "    <tr>\n",
              "      <th>3</th>\n",
              "      <td>3</td>\n",
              "      <td>193080</td>\n",
              "      <td>3</td>\n",
              "      <td>27</td>\n",
              "      <td>3</td>\n",
              "      <td>91</td>\n",
              "      <td>93</td>\n",
              "      <td>3</td>\n",
              "      <td>72000000.0</td>\n",
              "      <td>260000.0</td>\n",
              "      <td>...</td>\n",
              "      <td>0</td>\n",
              "      <td>0</td>\n",
              "      <td>0</td>\n",
              "      <td>0</td>\n",
              "      <td>0</td>\n",
              "      <td>0</td>\n",
              "      <td>0</td>\n",
              "      <td>0</td>\n",
              "      <td>138600000.0</td>\n",
              "      <td>NaN</td>\n",
              "    </tr>\n",
              "    <tr>\n",
              "      <th>4</th>\n",
              "      <td>4</td>\n",
              "      <td>192985</td>\n",
              "      <td>4</td>\n",
              "      <td>27</td>\n",
              "      <td>4</td>\n",
              "      <td>91</td>\n",
              "      <td>92</td>\n",
              "      <td>4</td>\n",
              "      <td>102000000.0</td>\n",
              "      <td>355000.0</td>\n",
              "      <td>...</td>\n",
              "      <td>0</td>\n",
              "      <td>0</td>\n",
              "      <td>0</td>\n",
              "      <td>0</td>\n",
              "      <td>0</td>\n",
              "      <td>0</td>\n",
              "      <td>0</td>\n",
              "      <td>0</td>\n",
              "      <td>196400000.0</td>\n",
              "      <td>NaN</td>\n",
              "    </tr>\n",
              "  </tbody>\n",
              "</table>\n",
              "<p>5 rows × 61 columns</p>\n",
              "</div>\n",
              "      <button class=\"colab-df-convert\" onclick=\"convertToInteractive('df-089508f2-5d33-486a-b8ed-bdbca6f1c48a')\"\n",
              "              title=\"Convert this dataframe to an interactive table.\"\n",
              "              style=\"display:none;\">\n",
              "        \n",
              "  <svg xmlns=\"http://www.w3.org/2000/svg\" height=\"24px\"viewBox=\"0 0 24 24\"\n",
              "       width=\"24px\">\n",
              "    <path d=\"M0 0h24v24H0V0z\" fill=\"none\"/>\n",
              "    <path d=\"M18.56 5.44l.94 2.06.94-2.06 2.06-.94-2.06-.94-.94-2.06-.94 2.06-2.06.94zm-11 1L8.5 8.5l.94-2.06 2.06-.94-2.06-.94L8.5 2.5l-.94 2.06-2.06.94zm10 10l.94 2.06.94-2.06 2.06-.94-2.06-.94-.94-2.06-.94 2.06-2.06.94z\"/><path d=\"M17.41 7.96l-1.37-1.37c-.4-.4-.92-.59-1.43-.59-.52 0-1.04.2-1.43.59L10.3 9.45l-7.72 7.72c-.78.78-.78 2.05 0 2.83L4 21.41c.39.39.9.59 1.41.59.51 0 1.02-.2 1.41-.59l7.78-7.78 2.81-2.81c.8-.78.8-2.07 0-2.86zM5.41 20L4 18.59l7.72-7.72 1.47 1.35L5.41 20z\"/>\n",
              "  </svg>\n",
              "      </button>\n",
              "      \n",
              "  <style>\n",
              "    .colab-df-container {\n",
              "      display:flex;\n",
              "      flex-wrap:wrap;\n",
              "      gap: 12px;\n",
              "    }\n",
              "\n",
              "    .colab-df-convert {\n",
              "      background-color: #E8F0FE;\n",
              "      border: none;\n",
              "      border-radius: 50%;\n",
              "      cursor: pointer;\n",
              "      display: none;\n",
              "      fill: #1967D2;\n",
              "      height: 32px;\n",
              "      padding: 0 0 0 0;\n",
              "      width: 32px;\n",
              "    }\n",
              "\n",
              "    .colab-df-convert:hover {\n",
              "      background-color: #E2EBFA;\n",
              "      box-shadow: 0px 1px 2px rgba(60, 64, 67, 0.3), 0px 1px 3px 1px rgba(60, 64, 67, 0.15);\n",
              "      fill: #174EA6;\n",
              "    }\n",
              "\n",
              "    [theme=dark] .colab-df-convert {\n",
              "      background-color: #3B4455;\n",
              "      fill: #D2E3FC;\n",
              "    }\n",
              "\n",
              "    [theme=dark] .colab-df-convert:hover {\n",
              "      background-color: #434B5C;\n",
              "      box-shadow: 0px 1px 3px 1px rgba(0, 0, 0, 0.15);\n",
              "      filter: drop-shadow(0px 1px 2px rgba(0, 0, 0, 0.3));\n",
              "      fill: #FFFFFF;\n",
              "    }\n",
              "  </style>\n",
              "\n",
              "      <script>\n",
              "        const buttonEl =\n",
              "          document.querySelector('#df-089508f2-5d33-486a-b8ed-bdbca6f1c48a button.colab-df-convert');\n",
              "        buttonEl.style.display =\n",
              "          google.colab.kernel.accessAllowed ? 'block' : 'none';\n",
              "\n",
              "        async function convertToInteractive(key) {\n",
              "          const element = document.querySelector('#df-089508f2-5d33-486a-b8ed-bdbca6f1c48a');\n",
              "          const dataTable =\n",
              "            await google.colab.kernel.invokeFunction('convertToInteractive',\n",
              "                                                     [key], {});\n",
              "          if (!dataTable) return;\n",
              "\n",
              "          const docLinkHtml = 'Like what you see? Visit the ' +\n",
              "            '<a target=\"_blank\" href=https://colab.research.google.com/notebooks/data_table.ipynb>data table notebook</a>'\n",
              "            + ' to learn more about interactive tables.';\n",
              "          element.innerHTML = '';\n",
              "          dataTable['output_type'] = 'display_data';\n",
              "          await google.colab.output.renderOutput(dataTable, element);\n",
              "          const docLink = document.createElement('div');\n",
              "          docLink.innerHTML = docLinkHtml;\n",
              "          element.appendChild(docLink);\n",
              "        }\n",
              "      </script>\n",
              "    </div>\n",
              "  </div>\n",
              "  "
            ]
          },
          "metadata": {},
          "execution_count": 17
        }
      ]
    },
    {
      "cell_type": "code",
      "source": [
        "df.info()"
      ],
      "metadata": {
        "colab": {
          "base_uri": "https://localhost:8080/"
        },
        "id": "7o118koZfc3c",
        "outputId": "0f1ac480-e455-482e-902f-72c0432bf8da"
      },
      "execution_count": 35,
      "outputs": [
        {
          "output_type": "stream",
          "name": "stdout",
          "text": [
            "<class 'pandas.core.frame.DataFrame'>\n",
            "RangeIndex: 18207 entries, 0 to 18206\n",
            "Data columns (total 61 columns):\n",
            " #   Column                    Non-Null Count  Dtype  \n",
            "---  ------                    --------------  -----  \n",
            " 0   Unnamed: 0                18207 non-null  int64  \n",
            " 1   ID                        18207 non-null  int64  \n",
            " 2   Name                      18207 non-null  int64  \n",
            " 3   Age                       18207 non-null  int64  \n",
            " 4   Nationality               18207 non-null  int64  \n",
            " 5   Overall                   18207 non-null  int64  \n",
            " 6   Potential                 18207 non-null  int64  \n",
            " 7   Club                      18207 non-null  int64  \n",
            " 8   Value                     18207 non-null  float64\n",
            " 9   Wage                      18207 non-null  float64\n",
            " 10  Special                   18207 non-null  int64  \n",
            " 11  Preferred Foot            18207 non-null  int64  \n",
            " 12  International Reputation  18207 non-null  int64  \n",
            " 13  Weak Foot                 18207 non-null  int64  \n",
            " 14  Skill Moves               18207 non-null  int64  \n",
            " 15  Work Rate                 18207 non-null  int64  \n",
            " 16  Body Type                 18207 non-null  int64  \n",
            " 17  Real Face                 18207 non-null  int64  \n",
            " 18  Position                  18207 non-null  int64  \n",
            " 19  Jersey Number             18207 non-null  int64  \n",
            " 20  Joined                    18207 non-null  int64  \n",
            " 21  Loaned From               18207 non-null  int64  \n",
            " 22  Contract Valid Until      18207 non-null  int64  \n",
            " 23  Height                    18207 non-null  int64  \n",
            " 24  Weight                    18207 non-null  int64  \n",
            " 25  Crossing                  18207 non-null  int64  \n",
            " 26  Finishing                 18207 non-null  int64  \n",
            " 27  HeadingAccuracy           18207 non-null  int64  \n",
            " 28  ShortPassing              18207 non-null  int64  \n",
            " 29  Volleys                   18207 non-null  int64  \n",
            " 30  Dribbling                 18207 non-null  int64  \n",
            " 31  Curve                     18207 non-null  int64  \n",
            " 32  FKAccuracy                18207 non-null  int64  \n",
            " 33  LongPassing               18207 non-null  int64  \n",
            " 34  BallControl               18207 non-null  int64  \n",
            " 35  Acceleration              18207 non-null  int64  \n",
            " 36  SprintSpeed               18207 non-null  int64  \n",
            " 37  Agility                   18207 non-null  int64  \n",
            " 38  Reactions                 18207 non-null  int64  \n",
            " 39  Balance                   18207 non-null  int64  \n",
            " 40  ShotPower                 18207 non-null  int64  \n",
            " 41  Jumping                   18207 non-null  int64  \n",
            " 42  Stamina                   18207 non-null  int64  \n",
            " 43  Strength                  18207 non-null  int64  \n",
            " 44  LongShots                 18207 non-null  int64  \n",
            " 45  Aggression                18207 non-null  int64  \n",
            " 46  Interceptions             18207 non-null  int64  \n",
            " 47  Positioning               18207 non-null  int64  \n",
            " 48  Vision                    18207 non-null  int64  \n",
            " 49  Penalties                 18207 non-null  int64  \n",
            " 50  Composure                 18207 non-null  int64  \n",
            " 51  Marking                   18207 non-null  int64  \n",
            " 52  StandingTackle            18207 non-null  int64  \n",
            " 53  SlidingTackle             18207 non-null  int64  \n",
            " 54  GKDiving                  18207 non-null  int64  \n",
            " 55  GKHandling                18207 non-null  int64  \n",
            " 56  GKKicking                 18207 non-null  int64  \n",
            " 57  GKPositioning             18207 non-null  int64  \n",
            " 58  GKReflexes                18207 non-null  int64  \n",
            " 59  Release Clause            18207 non-null  float64\n",
            " 60  Unnamed: 60               27 non-null     object \n",
            "dtypes: float64(3), int64(57), object(1)\n",
            "memory usage: 8.5+ MB\n"
          ]
        }
      ]
    },
    {
      "cell_type": "code",
      "source": [
        "df_scaled = df.copy()\n",
        "df_scaled.drop([\"Unnamed: 60\",\"Unnamed: 0\"], axis=1, inplace=True)"
      ],
      "metadata": {
        "id": "yzMQcZ4BL5Bz"
      },
      "execution_count": 256,
      "outputs": []
    },
    {
      "cell_type": "code",
      "source": [
        "# from sklearn import preprocessing\n",
        "\n",
        "# x = df_scaled.values \n",
        "# min_max_scaler = preprocessing.MinMaxScaler()\n",
        "# x_scaled = min_max_scaler.fit_transform(x)\n",
        "# df_scaled = pd.DataFrame(x_scaled)"
      ],
      "metadata": {
        "id": "c_Iz0lyoLc-y"
      },
      "execution_count": 257,
      "outputs": []
    },
    {
      "cell_type": "code",
      "source": [
        "df_scaled[df_scaled.columns]=StandardScaler().fit_transform(df_scaled)"
      ],
      "metadata": {
        "id": "6tQIV_J4ZTYy"
      },
      "execution_count": 258,
      "outputs": []
    },
    {
      "cell_type": "code",
      "source": [
        "df_scaled.shape"
      ],
      "metadata": {
        "colab": {
          "base_uri": "https://localhost:8080/"
        },
        "id": "wwxWIVxcw9Uw",
        "outputId": "e37045b3-1e6a-41d1-c634-76c1cf61779c"
      },
      "execution_count": 259,
      "outputs": [
        {
          "output_type": "execute_result",
          "data": {
            "text/plain": [
              "(18207, 59)"
            ]
          },
          "metadata": {},
          "execution_count": 259
        }
      ]
    },
    {
      "cell_type": "code",
      "source": [
        "pca_2 = PCA(n_components=2)\n",
        "pca_2.fit(df_scaled)\n",
        "pca2_res = pca_2.transform(df_scaled)"
      ],
      "metadata": {
        "id": "6fmSqMm7M9_U"
      },
      "execution_count": 260,
      "outputs": []
    },
    {
      "cell_type": "code",
      "source": [
        "pca2_res.shape"
      ],
      "metadata": {
        "colab": {
          "base_uri": "https://localhost:8080/"
        },
        "id": "RY7A0HHQM-CB",
        "outputId": "418e6f76-239e-499b-963f-5e5dbd61fb5d"
      },
      "execution_count": 262,
      "outputs": [
        {
          "output_type": "execute_result",
          "data": {
            "text/plain": [
              "(18207, 2)"
            ]
          },
          "metadata": {},
          "execution_count": 262
        }
      ]
    },
    {
      "cell_type": "code",
      "source": [],
      "metadata": {
        "id": "Ts1-IRiwM-E4"
      },
      "execution_count": null,
      "outputs": []
    },
    {
      "cell_type": "code",
      "source": [],
      "metadata": {
        "id": "3oYLNojwM-Hr"
      },
      "execution_count": null,
      "outputs": []
    },
    {
      "cell_type": "code",
      "source": [
        "class KmeansClustering:\n",
        "  def __init__(self,num_clusters,data):\n",
        "    self.num_clusters = num_clusters\n",
        "    self.data = data\n",
        "    self.num_examples = data.shape[0]\n",
        "    self.num_features = data.shape[1]\n",
        "  \n",
        "  def initialize_random_centroids(self, data):\n",
        "    centroids = np.zeros((self.num_clusters, self.num_features))\n",
        "    for i in range(self.num_clusters):\n",
        "      x=np.random.choice(range(self.num_examples))\n",
        "      # centroids[i]=data.iloc[[x]]\n",
        "      centroids[i]=data[x]\n",
        "    return centroids\n",
        "\n",
        "  def calculate_new_centroids(self, data,clusters):\n",
        "    centroids = []\n",
        "    for i in range(self.num_clusters):\n",
        "      x=[0 for i in range(self.num_features)]\n",
        "      d=len(clusters[i])\n",
        "      for p in clusters[i]:\n",
        "        for j in range(len(p)):\n",
        "          x[j]+=p[j]/d\n",
        "      centroids.append(x)\n",
        "    return centroids\n",
        "\n",
        "  def create_cluster(self, data, centroids):\n",
        "    clusters = [[] for i in range(self.num_clusters)]\n",
        "    for i in range(len(data)):\n",
        "      # x=data.loc[[i]].values[0]\n",
        "      x=data[i]\n",
        "      dis=0\n",
        "      minc=0\n",
        "      mind=999999999999\n",
        "      for k in range(self.num_clusters):\n",
        "        for j in range(len(x)):\n",
        "          dis+= (x[j] - centroids[k][j])**2\n",
        "        dis = np.sqrt(dis)\n",
        "        if(dis<mind):\n",
        "          mind=dis\n",
        "          minc=k\n",
        "      clusters[minc].append(x)\n",
        "    \n",
        "    return clusters\n",
        "\n",
        "  def predict_cluster(self, clusters, data):\n",
        "    clusters_d={}\n",
        "    for c in range(self.num_clusters):\n",
        "      for e in clusters[c]:\n",
        "        clusters_d[str(e)] = c\n",
        "\n",
        "    y_pred = np.zeros(data.shape[0])\n",
        "    for i in range(len(data)):\n",
        "      # x=data.loc[[i]].values[0]\n",
        "      x=data[i]\n",
        "      y_pred[i]=int(clusters_d[str(x)])\n",
        "    return y_pred\n",
        "\n",
        "  def fit(self, data):\n",
        "    centroids = self.initialize_random_centroids(data)\n",
        "    for i in range(100):\n",
        "      clusters = self.create_cluster(data,centroids)\n",
        "      prev_centroids = centroids\n",
        "      new_centroids = self.calculate_new_centroids(data,clusters)\n",
        "      # if(i%10==0): print(len(clusters[0]),len(clusters[1]),len(clusters[2]))\n",
        "      f=0\n",
        "      for j in range(self.num_clusters):\n",
        "        for k in range(self.num_features):\n",
        "          if(abs(new_centroids[j][k] - prev_centroids[j][k])>0.001):\n",
        "            f=1\n",
        "            break\n",
        "        if(f==1): break\n",
        "      if(f==0): break\n",
        "      centroids = new_centroids\n",
        "    y_pred = self.predict_cluster(clusters, data)\n",
        "    return centroids,y_pred"
      ],
      "metadata": {
        "id": "FlbdxnkHvljn"
      },
      "execution_count": 301,
      "outputs": []
    },
    {
      "cell_type": "code",
      "source": [
        "kmeans = KmeansClustering(3,pca2_res)\n",
        "centroids,y_pred=kmeans.fit(pca2_res)"
      ],
      "metadata": {
        "colab": {
          "base_uri": "https://localhost:8080/"
        },
        "id": "QwqteTPE1o6p",
        "outputId": "88781bd2-7bb7-469c-ff2c-d0917fc5f292"
      },
      "execution_count": 288,
      "outputs": [
        {
          "output_type": "stream",
          "name": "stdout",
          "text": [
            "9569 4727 3911\n",
            "11813 3511 2883\n",
            "14421 1298 2488\n",
            "15050 1247 1910\n",
            "15219 1251 1737\n",
            "15257 1251 1699\n",
            "15274 1251 1682\n"
          ]
        }
      ]
    },
    {
      "cell_type": "code",
      "source": [
        "x = pca2_res[:, 0]\n",
        "y = pca2_res[:, 1]\n",
        "\n",
        "plt.scatter(x, y, c=y_pred, alpha=0.5, s=10)  # plot different colors per cluster\n",
        "plt.title('Football clusters')\n",
        "plt.xlabel('PCA 1')\n",
        "plt.ylabel('PCA 2')\n",
        "\n",
        "cpx = [a[0] for a in centroids]\n",
        "cpy = [a[1] for a in centroids]\n",
        "plt.scatter(cpx, cpy, marker='X', s=200, linewidths=1.5,\n",
        "            color='red', edgecolors=\"black\", lw=1.5)\n",
        "\n",
        "plt.show()"
      ],
      "metadata": {
        "colab": {
          "base_uri": "https://localhost:8080/",
          "height": 295
        },
        "id": "IJQqUfgFvumW",
        "outputId": "6b9992fb-b587-43ad-b2c9-0e15e6bce981"
      },
      "execution_count": 289,
      "outputs": [
        {
          "output_type": "display_data",
          "data": {
            "text/plain": [
              "<Figure size 432x288 with 1 Axes>"
            ],
            "image/png": "[encoded data removed]"
          },
          "metadata": {
            "needs_background": "light"
          }
        }
      ]
    },
    {
      "cell_type": "code",
      "source": [
        "#k=5\n",
        "kmeans = KmeansClustering(5,pca2_res)\n",
        "centroids,y_pred=kmeans.fit(pca2_res)\n",
        "x = pca2_res[:, 0]\n",
        "y = pca2_res[:, 1]\n",
        "\n",
        "plt.scatter(x, y, c=y_pred, alpha=0.5, s=10)  # plot different colors per cluster\n",
        "plt.title('Football clusters')\n",
        "plt.xlabel('PCA 1')\n",
        "plt.ylabel('PCA 2')\n",
        "\n",
        "cpx = [a[0] for a in centroids]\n",
        "cpy = [a[1] for a in centroids]\n",
        "plt.scatter(cpx, cpy, marker='X', s=200, linewidths=1.5,\n",
        "            color='red', edgecolors=\"black\", lw=1.5)\n",
        "\n",
        "plt.show()"
      ],
      "metadata": {
        "colab": {
          "base_uri": "https://localhost:8080/",
          "height": 399
        },
        "id": "lB940tUfvupN",
        "outputId": "47074563-b280-444e-fcd6-eca25e4771a6"
      },
      "execution_count": 293,
      "outputs": [
        {
          "output_type": "stream",
          "name": "stdout",
          "text": [
            "10915 2848 3174\n",
            "2291 4139 10566\n",
            "1431 3573 11978\n",
            "1236 3439 12303\n",
            "1137 3372 12468\n",
            "1035 3304 12637\n"
          ]
        },
        {
          "output_type": "display_data",
          "data": {
            "text/plain": [
              "<Figure size 432x288 with 1 Axes>"
            ],
            "image/png": "[encoded data removed]"
          },
          "metadata": {
            "needs_background": "light"
          }
        }
      ]
    },
    {
      "cell_type": "code",
      "source": [
        "#k=7\n",
        "kmeans = KmeansClustering(7,pca2_res)\n",
        "centroids,y_pred=kmeans.fit(pca2_res)\n",
        "x = pca2_res[:, 0]\n",
        "y = pca2_res[:, 1]\n",
        "\n",
        "plt.scatter(x, y, c=y_pred, alpha=0.5, s=10)  # plot different colors per cluster\n",
        "plt.title('Football clusters')\n",
        "plt.xlabel('PCA 1')\n",
        "plt.ylabel('PCA 2')\n",
        "\n",
        "cpx = [a[0] for a in centroids]\n",
        "cpy = [a[1] for a in centroids]\n",
        "plt.scatter(cpx, cpy, marker='X', s=200, linewidths=1.5,\n",
        "            color='red', edgecolors=\"black\", lw=1.5)\n",
        "\n",
        "plt.show()"
      ],
      "metadata": {
        "colab": {
          "base_uri": "https://localhost:8080/",
          "height": 347
        },
        "id": "B5405GiS0Bm7",
        "outputId": "4e698bad-048b-49d7-a158-5ceaf0c22068"
      },
      "execution_count": 294,
      "outputs": [
        {
          "output_type": "stream",
          "name": "stdout",
          "text": [
            "8947 1713 1871\n",
            "10033 6004 881\n",
            "9792 6153 845\n"
          ]
        },
        {
          "output_type": "display_data",
          "data": {
            "text/plain": [
              "<Figure size 432x288 with 1 Axes>"
            ],
            "image/png": "[encoded data removed]"
          },
          "metadata": {
            "needs_background": "light"
          }
        }
      ]
    },
    {
      "cell_type": "code",
      "source": [],
      "metadata": {
        "id": "kGpBcmG_0BpS"
      },
      "execution_count": null,
      "outputs": []
    },
    {
      "cell_type": "markdown",
      "source": [
        "elbow method\n"
      ],
      "metadata": {
        "id": "LJSXSOZjbssH"
      }
    },
    {
      "cell_type": "code",
      "source": [
        "pca2_res[0][0]"
      ],
      "metadata": {
        "colab": {
          "base_uri": "https://localhost:8080/"
        },
        "id": "5bonIHpwchPk",
        "outputId": "e821553d-6f0d-461c-b4b9-e901be7fa14b"
      },
      "execution_count": 296,
      "outputs": [
        {
          "output_type": "execute_result",
          "data": {
            "text/plain": [
              "22.70811693489093"
            ]
          },
          "metadata": {},
          "execution_count": 296
        }
      ]
    },
    {
      "cell_type": "code",
      "source": [
        "from scipy.spatial.distance import cdist\n",
        "costs =[]\n",
        "for i in range(1,10):\n",
        "  kmeans = KmeansClustering(i,pca2_res)\n",
        "  centroids,y_pred=kmeans.fit(pca2_res)\n",
        "  dis= sum(np.min(cdist(pca2_res, centroids, 'euclidean'), axis=1)) / len(2*pca2_res)\n",
        "  costs.append(dis)"
      ],
      "metadata": {
        "id": "lTtkFyflvt8Z"
      },
      "execution_count": 325,
      "outputs": []
    },
    {
      "cell_type": "code",
      "source": [
        "x=[i for i in range(1,10)]\n",
        "plt.plot(x,costs,'bx-')\n",
        "plt.title(\"the elbow method usinf distortion\")\n",
        "plt.show()"
      ],
      "metadata": {
        "colab": {
          "base_uri": "https://localhost:8080/",
          "height": 281
        },
        "id": "k7gz18lEdSts",
        "outputId": "456eb9bc-caeb-4cda-fb11-63e3eb1ac715"
      },
      "execution_count": 327,
      "outputs": [
        {
          "output_type": "display_data",
          "data": {
            "text/plain": [
              "<Figure size 432x288 with 1 Axes>"
            ],
            "image/png": "[encoded data removed]"
          },
          "metadata": {
            "needs_background": "light"
          }
        }
      ]
    },
    {
      "cell_type": "markdown",
      "source": [
        "we have to select the value of k , after which inertia started decreasing in linear fashion.\n",
        "For the given data, we can see that it started at 3."
      ],
      "metadata": {
        "id": "IgZWNA51fNky"
      }
    },
    {
      "cell_type": "code",
      "source": [
        "from sklearn import metrics\n",
        "x=[]\n",
        "scores=[]\n",
        "for i in range(3,20,2):\n",
        "  x.append(i)\n",
        "  kmeans = KmeansClustering(i,pca2_res)\n",
        "  centroids,y_pred=kmeans.fit(pca2_res)\n",
        "  ss = metrics.silhouette_score(pca2_res, y_pred)\n",
        "  scores.append(ss)"
      ],
      "metadata": {
        "id": "A-HpZwuVhfkL"
      },
      "execution_count": 330,
      "outputs": []
    },
    {
      "cell_type": "code",
      "source": [
        "plt.bar(x,scores)"
      ],
      "metadata": {
        "colab": {
          "base_uri": "https://localhost:8080/",
          "height": 282
        },
        "id": "_tRu5_dHhfor",
        "outputId": "3a130291-c051-4460-83d4-a6cd3fe4160c"
      },
      "execution_count": 331,
      "outputs": [
        {
          "output_type": "execute_result",
          "data": {
            "text/plain": [
              "<BarContainer object of 9 artists>"
            ]
          },
          "metadata": {},
          "execution_count": 331
        },
        {
          "output_type": "display_data",
          "data": {
            "text/plain": [
              "<Figure size 432x288 with 1 Axes>"
            ],
            "image/png": "[encoded data removed]"
          },
          "metadata": {
            "needs_background": "light"
          }
        }
      ]
    },
    {
      "cell_type": "markdown",
      "source": [
        "it is giving better values for k=3"
      ],
      "metadata": {
        "id": "8X6fT4vRkdSe"
      }
    },
    {
      "cell_type": "code",
      "source": [],
      "metadata": {
        "id": "dvOEXBe4kKpv"
      },
      "execution_count": null,
      "outputs": []
    }
  ]
}